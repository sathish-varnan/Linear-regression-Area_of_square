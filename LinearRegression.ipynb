{
  "nbformat": 4,
  "nbformat_minor": 0,
  "metadata": {
    "colab": {
      "provenance": [],
      "gpuType": "T4"
    },
    "kernelspec": {
      "name": "python3",
      "display_name": "Python 3"
    },
    "language_info": {
      "name": "python"
    },
    "accelerator": "GPU"
  },
  "cells": [
    {
      "cell_type": "code",
      "source": [
        "\"\"\"\n",
        "\tAuthor : (Sathish.V)\n",
        "\n",
        "\tDescription :\n",
        "\t\tIn this project the focus will be on predicting the area of square,\n",
        "\t\tgiven the feature (i.e. side of the square).\n",
        "\t\tEverything in this project was built from scratch.\n",
        "\n",
        "\tTitle :\n",
        "\t\tPredicting the Area of the Square - Linear Regression\n",
        "\n",
        "\"\"\"\n",
        "\n",
        "def __compute_unit__(slope, feature, actual_value, bias):\n",
        "\n",
        "\t\"\"\"\n",
        "\t\tcomputes the predicted value of a simple linear regression\n",
        "\t\tin the formual :=> y = mx + c\n",
        "\t\"\"\"\n",
        "\treturn (slope * feature + bias) - actual_value\n",
        "\n",
        "\n",
        "def __compute_cost__(slope, feature_array, actual_value_array, bias):\n",
        "\n",
        "\t\"\"\"\n",
        "\t\tcomputes the loss of the regression model\n",
        "\t\"\"\"\n",
        "\n",
        "\tcost = 0\n",
        "\n",
        "\titeration = feature_array.shape[0]\n",
        "\n",
        "\tfor index in range(iteration):\n",
        "\n",
        "\t\tcost += __compute_unit__(slope, feature_array[index], actual_value_array[index], bias) ** 2\n",
        "\n",
        "\tcost = cost / (2 * iteration)\n",
        "\n",
        "\treturn cost\n",
        "\n",
        "def __compute_dw__(slope, feature_array, actual_value_array, bias):\n",
        "\n",
        "\t\"\"\"\n",
        "\t\tcomputes the derivative of the cost with respect to the slope\n",
        "\t\"\"\"\n",
        "\n",
        "\tdw = 0\n",
        "\n",
        "\titeration = feature_array.shape[0]\n",
        "\n",
        "\tfor index in range(iteration):\n",
        "\n",
        "\t\tdw += __compute_unit__(slope, feature_array[index], actual_value_array[index], bias) * feature_array[index]\n",
        "\n",
        "\tdw = dw / iteration\n",
        "\n",
        "\treturn dw\n",
        "\n",
        "def __compute_db__(slope, feature_array, actual_value_array, bias):\n",
        "\n",
        "\t\"\"\"\n",
        "\t\tcomputes the derivative of the cost with respect to the bias\n",
        "\t\"\"\"\n",
        "\n",
        "\tdb = 0\n",
        "\n",
        "\titeration = feature_array.shape[0]\n",
        "\n",
        "\tfor index in range(iteration):\n",
        "\n",
        "\t\tdb += __compute_unit__(slope, feature_array[index], actual_value_array[index], bias)\n",
        "\n",
        "\tdb = db / iteration\n",
        "\n",
        "\treturn db\n",
        "\n",
        "def __prediction__(test_array, slope, bias):\n",
        "\n",
        "  \"\"\"\n",
        "    computes the prediction and returns the prediction numpy.ndarray\n",
        "  \"\"\"\n",
        "\n",
        "  prediction_array = []\n",
        "\n",
        "  for index in range(test_array.shape[0]):\n",
        "\n",
        "    prediction_array.append(slope * test_array[index] + bias)\n",
        "\n",
        "  return np.array(prediction_array)\n",
        "\n",
        "\n",
        "def __error_factor__(output, expected_output):\n",
        "\n",
        "  iteration = output.shape[0]\n",
        "\n",
        "  error = 0.0\n",
        "\n",
        "  for index in range(iteration):\n",
        "\n",
        "    error += (output[index] - expected_output[index]) * (-1 if (output[index] - expected_output[index]) < 0 else 1)\n",
        "\n",
        "  return error / iteration"
      ],
      "metadata": {
        "id": "rI9X468iKb28"
      },
      "execution_count": 57,
      "outputs": []
    },
    {
      "cell_type": "code",
      "source": [
        "\n",
        "\n",
        "#importing necessary modules\n",
        "\n",
        "import numpy as np\n",
        "import matplotlib.pyplot as plt\n",
        "from sklearn.model_selection import train_test_split\n",
        "# from _regression import *\n",
        "\n",
        "#preparing dataset\n",
        "\n",
        "feature_array = np.array([x for x in range(1, 10 ** 3 + 1)])\n",
        "\n",
        "actual_value_array = np.array([x * x for x in range(1, 10 ** 3 + 1)])\n",
        "\n",
        "x_train, x_test, y_train, y_test = train_test_split(feature_array, actual_value_array, test_size=0.3)\n",
        "\n",
        "#building the model\n",
        "\n",
        "\n",
        "#initial-values of slope, bias, learning-rate(alpha)\n",
        "\n",
        "slope = 0\n",
        "bias = 0\n",
        "alpha = 9e-8\n",
        "\n",
        "#number of updation of slope and bias\n",
        "\n",
        "epochs = 1000\n",
        "\n",
        "#No need for feature scaling because of single feature\n",
        "\n",
        "#storing the value of cost at each step for visualization\n",
        "\n",
        "cost_list = []\n",
        "slope_list = []\n",
        "\n",
        "\n",
        "for _ in range(epochs):\n",
        "\n",
        "\tcost = __compute_cost__(slope, x_train, y_train, bias)\n",
        "\n",
        "\tcost_list.append(cost)\n",
        "\tslope_list.append(slope)\n",
        "\n",
        "\ttemp_slope = slope - alpha * __compute_dw__(slope, feature_array, actual_value_array, bias)\n",
        "\n",
        "\ttemp_bias = bias - alpha * __compute_db__(slope, feature_array, actual_value_array, bias)\n",
        "\n",
        "\t#updation\n",
        "\n",
        "\tslope, bias = temp_slope, temp_bias"
      ],
      "metadata": {
        "id": "UNG-JWvgKoRI"
      },
      "execution_count": 58,
      "outputs": []
    },
    {
      "cell_type": "code",
      "source": [
        "#printing the mean absolute error value\n",
        "\n",
        "print(\"mean absolute error : \", __error_factor__(__prediction__(x_test, slope, bias), y_test))\n",
        "\n",
        "#visualizing the gradient-descent\n",
        "\n",
        "plt.title(\"Linear Regression\")\n",
        "plt.xlabel(\"slope\")\n",
        "plt.ylabel(\"cost\")\n",
        "plt.plot(slope_list, cost_list)\n",
        "plt.show()"
      ],
      "metadata": {
        "colab": {
          "base_uri": "https://localhost:8080/",
          "height": 489
        },
        "id": "c9CangvJLWGn",
        "outputId": "0c8391cd-3a12-4ef1-8744-d74a8b08e425"
      },
      "execution_count": 59,
      "outputs": [
        {
          "output_type": "stream",
          "name": "stdout",
          "text": [
            "mean absolute error :  101470.20008594674\n"
          ]
        },
        {
          "output_type": "display_data",
          "data": {
            "text/plain": [
              "<Figure size 640x480 with 1 Axes>"
            ],
            "image/png": "[encoded data removed]"
          },
          "metadata": {}
        }
      ]
    },
    {
      "cell_type": "code",
      "source": [],
      "metadata": {
        "id": "zNs5h9tGLuQC"
      },
      "execution_count": null,
      "outputs": []
    }
  ]
}